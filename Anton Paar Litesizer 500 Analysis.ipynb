{
 "cells": [
  {
   "cell_type": "markdown",
   "id": "e8f4f49f-38d9-4122-9d1d-27947bf97afe",
   "metadata": {},
   "source": [
    "# Anton Paar Litesizer 500 Analysis\n",
    "This notebook shows how to read all the information from the data file exported by the Anton Paar Litesizer 500 Particle Size Analyzer software using the class ``Litesizer500``"
   ]
  },
  {
   "cell_type": "code",
   "execution_count": 21,
   "id": "481a3005-1915-4b48-abec-a07b70124f25",
   "metadata": {},
   "outputs": [
    {
     "name": "stdout",
     "output_type": "stream",
     "text": [
      "The autoreload extension is already loaded. To reload it, use:\n",
      "  %reload_ext autoreload\n"
     ]
    }
   ],
   "source": [
    "# Import Libraries\n",
    "%load_ext autoreload\n",
    "%autoreload\n",
    "\n",
    "import matplotlib.pyplot as plt\n",
    "import seaborn as sns\n",
    "\n",
    "from litesizer_500 import Litesizer500"
   ]
  },
  {
   "cell_type": "code",
   "execution_count": 22,
   "id": "6b484d44-d839-40de-afe9-122fddab4884",
   "metadata": {},
   "outputs": [],
   "source": [
    "litesizer500_data_filename = \".\\data\\Litesizer 500 Test Data.xlsx\""
   ]
  },
  {
   "cell_type": "code",
   "execution_count": 23,
   "id": "9439e7b4-7dba-40f0-91e2-ad6fff1ac71d",
   "metadata": {},
   "outputs": [],
   "source": [
    "ls500 = Litesizer500(litesizer500_data_filename)"
   ]
  },
  {
   "cell_type": "markdown",
   "id": "3a387ae5-6b36-455d-92c5-fda587c01f9b",
   "metadata": {
    "tags": []
   },
   "source": [
    "## Sample Information"
   ]
  },
  {
   "cell_type": "code",
   "execution_count": 24,
   "id": "53b30406-85b1-4277-92b4-76cdb66c2075",
   "metadata": {},
   "outputs": [
    {
     "name": "stdout",
     "output_type": "stream",
     "text": [
      "Workbook name is: D:\\test.apkw\n",
      "Measuremennt name is: test\n",
      "Measurement mode is: Particle size\n",
      "Comment is: xyz material\n"
     ]
    }
   ],
   "source": [
    "print(f\"Workbook name is: {ls500.workbook_name}\")\n",
    "print(f\"Measuremennt name is: {ls500.measurement_name}\")\n",
    "print(f\"Measurement mode is: {ls500.measurement_mode}\")\n",
    "print(f\"Comment is: {ls500.comment}\")"
   ]
  },
  {
   "cell_type": "markdown",
   "id": "0eb8f5e9-2ca7-4954-9569-6ef11b06eb6a",
   "metadata": {},
   "source": [
    "## Results"
   ]
  },
  {
   "cell_type": "code",
   "execution_count": 25,
   "id": "f76988e1-36e0-4fca-8157-f4a5de17962e",
   "metadata": {},
   "outputs": [
    {
     "name": "stdout",
     "output_type": "stream",
     "text": [
      "Hydrodynamic diameter is: 322.889554242357\n",
      "Polydispersity index is: 20.5969269645732\n",
      "Intercept g1² is: 0.837716923466933\n",
      "Baseline is: 0.999902979333188\n",
      "Mean Intensity is: 306.498653198653\n",
      "Absolute Intensity is: 2675569.01258967\n",
      "Fit error is: 2.21345180797377e-05\n",
      "Diffusion coefficient is: 1.51933131506751\n"
     ]
    }
   ],
   "source": [
    "print(f\"Hydrodynamic diameter is: {ls500.hydrodynamic_diameter}\")\n",
    "print(f\"Polydispersity index is: {ls500.polydispersity_index}\")\n",
    "print(f\"Intercept g1² is: {ls500.intercept_g12}\")\n",
    "print(f\"Baseline is: {ls500.baseline}\")\n",
    "print(f\"Mean Intensity is: {ls500.mean_intensity}\")\n",
    "print(f\"Absolute Intensity is: {ls500.absolute_intensity}\")\n",
    "print(f\"Fit error is: {ls500.fit_error}\")\n",
    "print(f\"Diffusion coefficient is: {ls500.diffusion_coefficient}\")"
   ]
  },
  {
   "cell_type": "code",
   "execution_count": 26,
   "id": "e33d930b-e57c-4798-b4ee-7074a0ad758b",
   "metadata": {},
   "outputs": [
    {
     "name": "stdout",
     "output_type": "stream",
     "text": [
      "[(5, 5)]\n",
      "[(5, 6), (5, 7), (5, 8)]\n",
      "[(5, 9), (5, 10), (5, 11)]\n",
      "[(6, 7), (6, 10)]\n"
     ]
    }
   ],
   "source": [
    "pos_dp = ls500.get_positions_of_value(ls500.df, \"Particle diameter\")\n",
    "print(pos_dp)\n",
    "\n",
    "pos_rel_freq = ls500.get_positions_of_value(ls500.df, \"Relative frequency\")\n",
    "print(pos_rel_freq)\n",
    "\n",
    "pos_under = ls500.get_positions_of_value(ls500.df, \"Undersize\")\n",
    "print(pos_under)\n",
    "\n",
    "pos_vol_w = ls500.get_positions_of_value(ls500.df, \"Volume weighted\")\n",
    "print(pos_vol_w)"
   ]
  },
  {
   "cell_type": "code",
   "execution_count": 27,
   "id": "2f72ff30-9123-4a1b-9140-5a61e9cc9a4d",
   "metadata": {},
   "outputs": [
    {
     "data": {
      "text/plain": [
       "5     object\n",
       "7     object\n",
       "10    object\n",
       "dtype: object"
      ]
     },
     "execution_count": 27,
     "metadata": {},
     "output_type": "execute_result"
    }
   ],
   "source": [
    "df_vol_w = ls500.df.iloc[:, [pos_dp[0][1], pos_vol_w[0][1], pos_vol_w[1][1]]]\n",
    "df_vol_w.dropna(how=\"all\").dtypes"
   ]
  },
  {
   "cell_type": "code",
   "execution_count": 28,
   "id": "a52bec8c-3599-4092-9017-37427e113dd2",
   "metadata": {},
   "outputs": [
    {
     "data": {
      "text/plain": [
       "7"
      ]
     },
     "execution_count": 28,
     "metadata": {},
     "output_type": "execute_result"
    }
   ],
   "source": [
    "pos_vol_w[0][1]"
   ]
  },
  {
   "cell_type": "markdown",
   "id": "4ebbd1e6-7f85-4ec9-b865-de1970d9e782",
   "metadata": {},
   "source": [
    "## Particle Size Distribution: Intensity Weighted"
   ]
  },
  {
   "cell_type": "code",
   "execution_count": 29,
   "id": "166d82fe-9412-484d-8c7e-ba60394a5093",
   "metadata": {},
   "outputs": [
    {
     "data": {
      "text/html": [
       "<div>\n",
       "<style scoped>\n",
       "    .dataframe tbody tr th:only-of-type {\n",
       "        vertical-align: middle;\n",
       "    }\n",
       "\n",
       "    .dataframe tbody tr th {\n",
       "        vertical-align: top;\n",
       "    }\n",
       "\n",
       "    .dataframe thead th {\n",
       "        text-align: right;\n",
       "    }\n",
       "</style>\n",
       "<table border=\"1\" class=\"dataframe\">\n",
       "  <thead>\n",
       "    <tr style=\"text-align: right;\">\n",
       "      <th></th>\n",
       "      <th>Particle Diameter (nm)</th>\n",
       "      <th>Relative Frequency (%)</th>\n",
       "      <th>Cumulative Undersize (%)</th>\n",
       "    </tr>\n",
       "  </thead>\n",
       "  <tbody>\n",
       "    <tr>\n",
       "      <th>0</th>\n",
       "      <td>0.209474</td>\n",
       "      <td>0</td>\n",
       "      <td>0</td>\n",
       "    </tr>\n",
       "    <tr>\n",
       "      <th>1</th>\n",
       "      <td>0.227147</td>\n",
       "      <td>0</td>\n",
       "      <td>0</td>\n",
       "    </tr>\n",
       "    <tr>\n",
       "      <th>2</th>\n",
       "      <td>0.24631</td>\n",
       "      <td>0</td>\n",
       "      <td>0</td>\n",
       "    </tr>\n",
       "    <tr>\n",
       "      <th>3</th>\n",
       "      <td>0.26709</td>\n",
       "      <td>0</td>\n",
       "      <td>0</td>\n",
       "    </tr>\n",
       "    <tr>\n",
       "      <th>4</th>\n",
       "      <td>0.289624</td>\n",
       "      <td>0</td>\n",
       "      <td>0</td>\n",
       "    </tr>\n",
       "    <tr>\n",
       "      <th>...</th>\n",
       "      <td>...</td>\n",
       "      <td>...</td>\n",
       "      <td>...</td>\n",
       "    </tr>\n",
       "    <tr>\n",
       "      <th>137</th>\n",
       "      <td>13811.02704</td>\n",
       "      <td>0</td>\n",
       "      <td>100</td>\n",
       "    </tr>\n",
       "    <tr>\n",
       "      <th>138</th>\n",
       "      <td>14976.207715</td>\n",
       "      <td>0</td>\n",
       "      <td>100</td>\n",
       "    </tr>\n",
       "    <tr>\n",
       "      <th>139</th>\n",
       "      <td>16239.689986</td>\n",
       "      <td>0</td>\n",
       "      <td>100</td>\n",
       "    </tr>\n",
       "    <tr>\n",
       "      <th>140</th>\n",
       "      <td>17609.767163</td>\n",
       "      <td>0</td>\n",
       "      <td>100</td>\n",
       "    </tr>\n",
       "    <tr>\n",
       "      <th>141</th>\n",
       "      <td>19095.432228</td>\n",
       "      <td>0</td>\n",
       "      <td>100</td>\n",
       "    </tr>\n",
       "  </tbody>\n",
       "</table>\n",
       "<p>142 rows × 3 columns</p>\n",
       "</div>"
      ],
      "text/plain": [
       "    Particle Diameter (nm) Relative Frequency (%) Cumulative Undersize (%)\n",
       "0                 0.209474                      0                        0\n",
       "1                 0.227147                      0                        0\n",
       "2                  0.24631                      0                        0\n",
       "3                  0.26709                      0                        0\n",
       "4                 0.289624                      0                        0\n",
       "..                     ...                    ...                      ...\n",
       "137            13811.02704                      0                      100\n",
       "138           14976.207715                      0                      100\n",
       "139           16239.689986                      0                      100\n",
       "140           17609.767163                      0                      100\n",
       "141           19095.432228                      0                      100\n",
       "\n",
       "[142 rows x 3 columns]"
      ]
     },
     "execution_count": 29,
     "metadata": {},
     "output_type": "execute_result"
    }
   ],
   "source": [
    "ls500.df_psd_intensity_weighted"
   ]
  },
  {
   "cell_type": "code",
   "execution_count": 30,
   "id": "9273d9d0-77a2-49a0-9061-3b7d2c18fb16",
   "metadata": {},
   "outputs": [
    {
     "data": {
      "image/png": "[encoded data removed]",
      "text/plain": [
       "<Figure size 1008x504 with 2 Axes>"
      ]
     },
     "metadata": {
      "needs_background": "light"
     },
     "output_type": "display_data"
    }
   ],
   "source": [
    "df_psd = ls500.df_psd_intensity_weighted.copy()\n",
    "df_psd = df_psd[df_psd[\"Particle Diameter (nm)\"] <= 1500]\n",
    "\n",
    "fig, axes = plt.subplots(1, 2, figsize=(14, 7))\n",
    "\n",
    "sns.lineplot(x=\"Particle Diameter (nm)\", y=\"Relative Frequency (%)\", data=df_psd, ax=axes[0])\n",
    "axes[0].grid(visible=True)\n",
    "\n",
    "sns.lineplot(x=\"Particle Diameter (nm)\", y=\"Cumulative Undersize (%)\", data=df_psd, ax=axes[1])\n",
    "axes[1].grid(visible=True)\n",
    "\n",
    "plt.suptitle(f\"Particle Size Distribution: Intensity Weighted\\n Name: {ls500.measurement_name}, Mode: {ls500.measurement_mode}\")\n",
    "plt.show()"
   ]
  },
  {
   "cell_type": "markdown",
   "id": "5ab4547e-bed1-4f9f-b18d-a415a70fc8f4",
   "metadata": {},
   "source": [
    "## Particle Size Distribution: Volume Weighted"
   ]
  },
  {
   "cell_type": "code",
   "execution_count": 31,
   "id": "d5395573-d013-40de-92bd-8f05d37e8f65",
   "metadata": {},
   "outputs": [
    {
     "data": {
      "text/html": [
       "<div>\n",
       "<style scoped>\n",
       "    .dataframe tbody tr th:only-of-type {\n",
       "        vertical-align: middle;\n",
       "    }\n",
       "\n",
       "    .dataframe tbody tr th {\n",
       "        vertical-align: top;\n",
       "    }\n",
       "\n",
       "    .dataframe thead th {\n",
       "        text-align: right;\n",
       "    }\n",
       "</style>\n",
       "<table border=\"1\" class=\"dataframe\">\n",
       "  <thead>\n",
       "    <tr style=\"text-align: right;\">\n",
       "      <th></th>\n",
       "      <th>Particle Diameter (nm)</th>\n",
       "      <th>Relative Frequency (%)</th>\n",
       "      <th>Cumulative Undersize (%)</th>\n",
       "    </tr>\n",
       "  </thead>\n",
       "  <tbody>\n",
       "    <tr>\n",
       "      <th>0</th>\n",
       "      <td>0.209474</td>\n",
       "      <td>0</td>\n",
       "      <td>0</td>\n",
       "    </tr>\n",
       "    <tr>\n",
       "      <th>1</th>\n",
       "      <td>0.227147</td>\n",
       "      <td>0</td>\n",
       "      <td>0</td>\n",
       "    </tr>\n",
       "    <tr>\n",
       "      <th>2</th>\n",
       "      <td>0.24631</td>\n",
       "      <td>0</td>\n",
       "      <td>0</td>\n",
       "    </tr>\n",
       "    <tr>\n",
       "      <th>3</th>\n",
       "      <td>0.26709</td>\n",
       "      <td>0</td>\n",
       "      <td>0</td>\n",
       "    </tr>\n",
       "    <tr>\n",
       "      <th>4</th>\n",
       "      <td>0.289624</td>\n",
       "      <td>0</td>\n",
       "      <td>0</td>\n",
       "    </tr>\n",
       "    <tr>\n",
       "      <th>...</th>\n",
       "      <td>...</td>\n",
       "      <td>...</td>\n",
       "      <td>...</td>\n",
       "    </tr>\n",
       "    <tr>\n",
       "      <th>137</th>\n",
       "      <td>13811.02704</td>\n",
       "      <td>0</td>\n",
       "      <td>100</td>\n",
       "    </tr>\n",
       "    <tr>\n",
       "      <th>138</th>\n",
       "      <td>14976.207715</td>\n",
       "      <td>0</td>\n",
       "      <td>100</td>\n",
       "    </tr>\n",
       "    <tr>\n",
       "      <th>139</th>\n",
       "      <td>16239.689986</td>\n",
       "      <td>0</td>\n",
       "      <td>100</td>\n",
       "    </tr>\n",
       "    <tr>\n",
       "      <th>140</th>\n",
       "      <td>17609.767163</td>\n",
       "      <td>0</td>\n",
       "      <td>100</td>\n",
       "    </tr>\n",
       "    <tr>\n",
       "      <th>141</th>\n",
       "      <td>19095.432228</td>\n",
       "      <td>0</td>\n",
       "      <td>100</td>\n",
       "    </tr>\n",
       "  </tbody>\n",
       "</table>\n",
       "<p>142 rows × 3 columns</p>\n",
       "</div>"
      ],
      "text/plain": [
       "    Particle Diameter (nm) Relative Frequency (%) Cumulative Undersize (%)\n",
       "0                 0.209474                      0                        0\n",
       "1                 0.227147                      0                        0\n",
       "2                  0.24631                      0                        0\n",
       "3                  0.26709                      0                        0\n",
       "4                 0.289624                      0                        0\n",
       "..                     ...                    ...                      ...\n",
       "137            13811.02704                      0                      100\n",
       "138           14976.207715                      0                      100\n",
       "139           16239.689986                      0                      100\n",
       "140           17609.767163                      0                      100\n",
       "141           19095.432228                      0                      100\n",
       "\n",
       "[142 rows x 3 columns]"
      ]
     },
     "execution_count": 31,
     "metadata": {},
     "output_type": "execute_result"
    }
   ],
   "source": [
    "ls500.df_psd_volume_weighted"
   ]
  },
  {
   "cell_type": "code",
   "execution_count": 32,
   "id": "312d5ae8-f707-4f26-9b02-d3b138eee314",
   "metadata": {},
   "outputs": [
    {
     "data": {
      "image/png": "[encoded data removed]",
      "text/plain": [
       "<Figure size 1008x504 with 2 Axes>"
      ]
     },
     "metadata": {
      "needs_background": "light"
     },
     "output_type": "display_data"
    }
   ],
   "source": [
    "df_psd = ls500.df_psd_volume_weighted.copy()\n",
    "df_psd = df_psd[df_psd[\"Particle Diameter (nm)\"] <= 1500]\n",
    "\n",
    "fig, axes = plt.subplots(1, 2, figsize=(14, 7))\n",
    "\n",
    "sns.lineplot(x=\"Particle Diameter (nm)\", y=\"Relative Frequency (%)\", data=df_psd, ax=axes[0])\n",
    "axes[0].grid(visible=True)\n",
    "\n",
    "sns.lineplot(x=\"Particle Diameter (nm)\", y=\"Cumulative Undersize (%)\", data=df_psd, ax=axes[1])\n",
    "axes[1].grid(visible=True)\n",
    "\n",
    "plt.suptitle(f\"Particle Size Distribution: Volume Weighted\\n Name: {ls500.measurement_name}, Mode: {ls500.measurement_mode}\")\n",
    "plt.show()"
   ]
  },
  {
   "cell_type": "markdown",
   "id": "1202a42c-e2bf-4c97-a758-daf4436f89d2",
   "metadata": {},
   "source": [
    "## Particle Size Distribution: Number Weighted"
   ]
  },
  {
   "cell_type": "code",
   "execution_count": 33,
   "id": "051a8adf-87db-4e46-87a4-cffc4ad77613",
   "metadata": {},
   "outputs": [
    {
     "data": {
      "text/html": [
       "<div>\n",
       "<style scoped>\n",
       "    .dataframe tbody tr th:only-of-type {\n",
       "        vertical-align: middle;\n",
       "    }\n",
       "\n",
       "    .dataframe tbody tr th {\n",
       "        vertical-align: top;\n",
       "    }\n",
       "\n",
       "    .dataframe thead th {\n",
       "        text-align: right;\n",
       "    }\n",
       "</style>\n",
       "<table border=\"1\" class=\"dataframe\">\n",
       "  <thead>\n",
       "    <tr style=\"text-align: right;\">\n",
       "      <th></th>\n",
       "      <th>Particle Diameter (nm)</th>\n",
       "      <th>Relative Frequency (%)</th>\n",
       "      <th>Cumulative Undersize (%)</th>\n",
       "    </tr>\n",
       "  </thead>\n",
       "  <tbody>\n",
       "    <tr>\n",
       "      <th>0</th>\n",
       "      <td>0.209474</td>\n",
       "      <td>0</td>\n",
       "      <td>0</td>\n",
       "    </tr>\n",
       "    <tr>\n",
       "      <th>1</th>\n",
       "      <td>0.227147</td>\n",
       "      <td>0</td>\n",
       "      <td>0</td>\n",
       "    </tr>\n",
       "    <tr>\n",
       "      <th>2</th>\n",
       "      <td>0.24631</td>\n",
       "      <td>0</td>\n",
       "      <td>0</td>\n",
       "    </tr>\n",
       "    <tr>\n",
       "      <th>3</th>\n",
       "      <td>0.26709</td>\n",
       "      <td>0</td>\n",
       "      <td>0</td>\n",
       "    </tr>\n",
       "    <tr>\n",
       "      <th>4</th>\n",
       "      <td>0.289624</td>\n",
       "      <td>0</td>\n",
       "      <td>0</td>\n",
       "    </tr>\n",
       "    <tr>\n",
       "      <th>...</th>\n",
       "      <td>...</td>\n",
       "      <td>...</td>\n",
       "      <td>...</td>\n",
       "    </tr>\n",
       "    <tr>\n",
       "      <th>137</th>\n",
       "      <td>13811.02704</td>\n",
       "      <td>0</td>\n",
       "      <td>100</td>\n",
       "    </tr>\n",
       "    <tr>\n",
       "      <th>138</th>\n",
       "      <td>14976.207715</td>\n",
       "      <td>0</td>\n",
       "      <td>100</td>\n",
       "    </tr>\n",
       "    <tr>\n",
       "      <th>139</th>\n",
       "      <td>16239.689986</td>\n",
       "      <td>0</td>\n",
       "      <td>100</td>\n",
       "    </tr>\n",
       "    <tr>\n",
       "      <th>140</th>\n",
       "      <td>17609.767163</td>\n",
       "      <td>0</td>\n",
       "      <td>100</td>\n",
       "    </tr>\n",
       "    <tr>\n",
       "      <th>141</th>\n",
       "      <td>19095.432228</td>\n",
       "      <td>0</td>\n",
       "      <td>100</td>\n",
       "    </tr>\n",
       "  </tbody>\n",
       "</table>\n",
       "<p>142 rows × 3 columns</p>\n",
       "</div>"
      ],
      "text/plain": [
       "    Particle Diameter (nm) Relative Frequency (%) Cumulative Undersize (%)\n",
       "0                 0.209474                      0                        0\n",
       "1                 0.227147                      0                        0\n",
       "2                  0.24631                      0                        0\n",
       "3                  0.26709                      0                        0\n",
       "4                 0.289624                      0                        0\n",
       "..                     ...                    ...                      ...\n",
       "137            13811.02704                      0                      100\n",
       "138           14976.207715                      0                      100\n",
       "139           16239.689986                      0                      100\n",
       "140           17609.767163                      0                      100\n",
       "141           19095.432228                      0                      100\n",
       "\n",
       "[142 rows x 3 columns]"
      ]
     },
     "execution_count": 33,
     "metadata": {},
     "output_type": "execute_result"
    }
   ],
   "source": [
    "ls500.df_psd_number_weighted"
   ]
  },
  {
   "cell_type": "code",
   "execution_count": 35,
   "id": "44c74982-f32c-45b0-af8f-fbd5d7f9c5e1",
   "metadata": {},
   "outputs": [
    {
     "data": {
      "image/png": "[encoded data removed]",
      "text/plain": [
       "<Figure size 1008x504 with 2 Axes>"
      ]
     },
     "metadata": {
      "needs_background": "light"
     },
     "output_type": "display_data"
    }
   ],
   "source": [
    "df_psd = ls500.df_psd_number_weighted.copy()\n",
    "df_psd = df_psd[df_psd[\"Particle Diameter (nm)\"] <= 1500]\n",
    "\n",
    "fig, axes = plt.subplots(1, 2, figsize=(14, 7))\n",
    "\n",
    "sns.lineplot(x=\"Particle Diameter (nm)\", y=\"Relative Frequency (%)\", data=df_psd, ax=axes[0])\n",
    "axes[0].grid(visible=True)\n",
    "\n",
    "sns.lineplot(x=\"Particle Diameter (nm)\", y=\"Cumulative Undersize (%)\", data=df_psd, ax=axes[1])\n",
    "axes[1].grid(visible=True)\n",
    "\n",
    "plt.suptitle(f\"Particle Size Distribution: Number Weighted\\n Name: {ls500.measurement_name}, Mode: {ls500.measurement_mode}\")\n",
    "plt.show()"
   ]
  },
  {
   "cell_type": "code",
   "execution_count": null,
   "id": "0c16502b-32ac-443b-ad83-98c028fe1074",
   "metadata": {},
   "outputs": [],
   "source": []
  },
  {
   "cell_type": "markdown",
   "id": "280ef852-8fb4-4b5c-9c32-2f1b467234a6",
   "metadata": {},
   "source": [
    "## Peak Analysis - Volume"
   ]
  },
  {
   "cell_type": "code",
   "execution_count": null,
   "id": "70072a4f-b973-4b6d-974a-df3bad403343",
   "metadata": {},
   "outputs": [],
   "source": []
  },
  {
   "cell_type": "code",
   "execution_count": null,
   "id": "f5cb3fcd-669c-4e68-a410-02ff6b4fb540",
   "metadata": {},
   "outputs": [],
   "source": []
  },
  {
   "cell_type": "code",
   "execution_count": null,
   "id": "f3e2efe4-17d1-4326-938d-f3b43a23f383",
   "metadata": {},
   "outputs": [],
   "source": []
  },
  {
   "cell_type": "markdown",
   "id": "75335a0c-bce4-467d-8389-1936ef86fdda",
   "metadata": {},
   "source": [
    "## Peak Analysis - Intensity"
   ]
  },
  {
   "cell_type": "code",
   "execution_count": null,
   "id": "fc90208f-7883-4363-8c07-1c714eeee475",
   "metadata": {},
   "outputs": [],
   "source": []
  },
  {
   "cell_type": "code",
   "execution_count": null,
   "id": "d9a9f328-133b-4f54-abb5-8f06a37d269d",
   "metadata": {},
   "outputs": [],
   "source": []
  },
  {
   "cell_type": "code",
   "execution_count": null,
   "id": "f7130121-b348-4768-81e1-9b887fb9ae40",
   "metadata": {},
   "outputs": [],
   "source": []
  },
  {
   "cell_type": "code",
   "execution_count": null,
   "id": "53f9ec59-6e0c-4a04-a3c8-2dc60e0b1bc1",
   "metadata": {},
   "outputs": [],
   "source": []
  },
  {
   "cell_type": "markdown",
   "id": "d8281550-5af1-460f-8947-721227230d87",
   "metadata": {},
   "source": [
    "## Peak Analysis - Number"
   ]
  },
  {
   "cell_type": "code",
   "execution_count": null,
   "id": "b7da2978-6d53-4279-8860-81be48949f79",
   "metadata": {},
   "outputs": [],
   "source": []
  },
  {
   "cell_type": "code",
   "execution_count": null,
   "id": "812e3a86-18f6-486a-bb77-3c2154fcc853",
   "metadata": {},
   "outputs": [],
   "source": []
  },
  {
   "cell_type": "markdown",
   "id": "ad4ee444-d362-4ec7-aaa4-259832bbad84",
   "metadata": {},
   "source": [
    "## D values"
   ]
  },
  {
   "cell_type": "code",
   "execution_count": null,
   "id": "94acb629-9498-4013-bb07-02fd11226fe7",
   "metadata": {},
   "outputs": [],
   "source": []
  },
  {
   "cell_type": "code",
   "execution_count": null,
   "id": "01ee3ffd-2cd6-4de5-ae59-15fb229ac1d2",
   "metadata": {},
   "outputs": [],
   "source": []
  },
  {
   "cell_type": "code",
   "execution_count": null,
   "id": "7708c39d-f246-499b-ba46-896e340a2068",
   "metadata": {},
   "outputs": [],
   "source": []
  },
  {
   "cell_type": "markdown",
   "id": "a8f75010-014c-4d0c-9aea-6f969d049a88",
   "metadata": {},
   "source": [
    "## Automatic Values"
   ]
  },
  {
   "cell_type": "code",
   "execution_count": null,
   "id": "ec80ab13-2076-4c25-8119-a56089e09062",
   "metadata": {},
   "outputs": [],
   "source": []
  },
  {
   "cell_type": "code",
   "execution_count": null,
   "id": "4172b231-71f5-4749-b838-d81f01677eec",
   "metadata": {},
   "outputs": [],
   "source": []
  },
  {
   "cell_type": "code",
   "execution_count": null,
   "id": "6d2ab53f-5c4e-48d7-b7de-5148400790f8",
   "metadata": {},
   "outputs": [],
   "source": []
  },
  {
   "cell_type": "code",
   "execution_count": null,
   "id": "8cd5fae3-f03f-4c89-9bb2-99a18e9b6c55",
   "metadata": {},
   "outputs": [],
   "source": []
  },
  {
   "cell_type": "markdown",
   "id": "90f10459-233d-43aa-9f02-c6f7ccf5c9ad",
   "metadata": {},
   "source": [
    "## Size Distribution Function"
   ]
  },
  {
   "cell_type": "code",
   "execution_count": null,
   "id": "9c0bb2a5-da61-4b48-9aa0-ac9dbf4a3083",
   "metadata": {},
   "outputs": [],
   "source": []
  },
  {
   "cell_type": "code",
   "execution_count": null,
   "id": "ac3cbdd4-6f37-442f-bf2e-f3be1013d5f6",
   "metadata": {},
   "outputs": [],
   "source": []
  },
  {
   "cell_type": "code",
   "execution_count": null,
   "id": "c0afe038-63e3-4890-9dfc-cd257f30a163",
   "metadata": {},
   "outputs": [],
   "source": []
  },
  {
   "cell_type": "markdown",
   "id": "993dad95-fccf-4322-b5b8-a90d279e628b",
   "metadata": {},
   "source": [
    "## Correlation Function"
   ]
  },
  {
   "cell_type": "code",
   "execution_count": null,
   "id": "45b066b6-2868-4e33-8481-62c3cac95bc8",
   "metadata": {},
   "outputs": [],
   "source": []
  },
  {
   "cell_type": "code",
   "execution_count": null,
   "id": "8f19c7ec-faec-4910-b79b-f1e582c39c41",
   "metadata": {},
   "outputs": [],
   "source": []
  },
  {
   "cell_type": "code",
   "execution_count": null,
   "id": "ff6c0622-968b-4688-8ae3-00d16ecf753d",
   "metadata": {},
   "outputs": [],
   "source": []
  },
  {
   "cell_type": "code",
   "execution_count": null,
   "id": "c22286c1-12cc-47bc-9a2e-487e160fe307",
   "metadata": {},
   "outputs": [],
   "source": []
  },
  {
   "cell_type": "markdown",
   "id": "e8034666-eaa3-44b8-8156-a8b7a9d45644",
   "metadata": {},
   "source": [
    "## Intensity Trace"
   ]
  },
  {
   "cell_type": "code",
   "execution_count": null,
   "id": "7a8acf91-1eac-4646-bf35-736087e43f54",
   "metadata": {},
   "outputs": [],
   "source": []
  },
  {
   "cell_type": "code",
   "execution_count": null,
   "id": "ba424d7a-15f3-4729-b1c2-c3d2d0d42e58",
   "metadata": {},
   "outputs": [],
   "source": []
  }
 ],
 "metadata": {
  "kernelspec": {
   "display_name": "Python 3 (ipykernel)",
   "language": "python",
   "name": "python3"
  },
  "language_info": {
   "codemirror_mode": {
    "name": "ipython",
    "version": 3
   },
   "file_extension": ".py",
   "mimetype": "text/x-python",
   "name": "python",
   "nbconvert_exporter": "python",
   "pygments_lexer": "ipython3",
   "version": "3.8.13"
  }
 },
 "nbformat": 4,
 "nbformat_minor": 5
}
